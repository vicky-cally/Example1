{
 "cells": [
  {
   "cell_type": "code",
   "execution_count": 2,
   "id": "11b59402",
   "metadata": {},
   "outputs": [
    {
     "name": "stdout",
     "output_type": "stream",
     "text": [
      "Enter score = 67\n"
     ]
    },
    {
     "data": {
      "text/plain": [
       "'B'"
      ]
     },
     "execution_count": 2,
     "metadata": {},
     "output_type": "execute_result"
    }
   ],
   "source": [
    "scores = float(input(\"Enter score = \"))\n",
    "def determine_grade(scores):\n",
    "    if scores >= 70 and scores <= 100:\n",
    "        return(\"A\")\n",
    "    elif scores >= 60 and scores <= 69:\n",
    "        return(\"B\")\n",
    "    elif scores >= 50 and scores <= 59:\n",
    "        return(\"C\")\n",
    "    elif scores >= 45 and scores <= 49:\n",
    "        return(\"D\")\n",
    "    elif scores >= 40 and scores <= 44:\n",
    "        return(\"E\")\n",
    "    else:\n",
    "        return(\"F\")\n",
    "determine_grade(scores)    "
   ]
  },
  {
   "cell_type": "code",
   "execution_count": null,
   "id": "9060a260",
   "metadata": {},
   "outputs": [],
   "source": []
  },
  {
   "cell_type": "code",
   "execution_count": null,
   "id": "2de5e301",
   "metadata": {},
   "outputs": [],
   "source": []
  },
  {
   "cell_type": "code",
   "execution_count": null,
   "id": "00687018",
   "metadata": {},
   "outputs": [],
   "source": []
  }
 ],
 "metadata": {
  "kernelspec": {
   "display_name": "Python 3",
   "language": "python",
   "name": "python3"
  },
  "language_info": {
   "codemirror_mode": {
    "name": "ipython",
    "version": 3
   },
   "file_extension": ".py",
   "mimetype": "text/x-python",
   "name": "python",
   "nbconvert_exporter": "python",
   "pygments_lexer": "ipython3",
   "version": "3.8.8"
  }
 },
 "nbformat": 4,
 "nbformat_minor": 5
}
